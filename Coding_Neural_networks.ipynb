{
 "cells": [
  {
   "cell_type": "markdown",
   "id": "1068347d-18e7-44cc-b168-a5a0d63f3541",
   "metadata": {},
   "source": [
    "#### In this notebook, i will implement a neural network in three ways:\n",
    "1. Without the use of any deeplearning frameworks\n",
    "2. using Pytorch\n",
    "3. Using Tensorflow."
   ]
  },
  {
   "cell_type": "code",
   "execution_count": 1,
   "id": "b8dce76d-2302-42e0-aa6e-895fbf6d71ba",
   "metadata": {},
   "outputs": [],
   "source": [
    "import numpy as np\n",
    "import pandas as pd\n",
    "import matplotlib.pyplot as plt\n",
    "from scipy.special import expit #this is for sigmoid function\n",
    "from scipy.special import softmax #this is for softmax"
   ]
  },
  {
   "cell_type": "code",
   "execution_count": 2,
   "id": "ac5b9059-23bd-4345-b7e6-0d6dadc321fe",
   "metadata": {},
   "outputs": [],
   "source": [
    "data = pd.read_csv('./DIGIT_DATA/train.csv')"
   ]
  },
  {
   "cell_type": "code",
   "execution_count": 3,
   "id": "65f26acf-1fb7-46a2-9d8d-ce0f6ad375b1",
   "metadata": {},
   "outputs": [
    {
     "data": {
      "text/html": [
       "<div>\n",
       "<style scoped>\n",
       "    .dataframe tbody tr th:only-of-type {\n",
       "        vertical-align: middle;\n",
       "    }\n",
       "\n",
       "    .dataframe tbody tr th {\n",
       "        vertical-align: top;\n",
       "    }\n",
       "\n",
       "    .dataframe thead th {\n",
       "        text-align: right;\n",
       "    }\n",
       "</style>\n",
       "<table border=\"1\" class=\"dataframe\">\n",
       "  <thead>\n",
       "    <tr style=\"text-align: right;\">\n",
       "      <th></th>\n",
       "      <th>label</th>\n",
       "      <th>pixel0</th>\n",
       "      <th>pixel1</th>\n",
       "      <th>pixel2</th>\n",
       "      <th>pixel3</th>\n",
       "      <th>pixel4</th>\n",
       "      <th>pixel5</th>\n",
       "      <th>pixel6</th>\n",
       "      <th>pixel7</th>\n",
       "      <th>pixel8</th>\n",
       "      <th>...</th>\n",
       "      <th>pixel774</th>\n",
       "      <th>pixel775</th>\n",
       "      <th>pixel776</th>\n",
       "      <th>pixel777</th>\n",
       "      <th>pixel778</th>\n",
       "      <th>pixel779</th>\n",
       "      <th>pixel780</th>\n",
       "      <th>pixel781</th>\n",
       "      <th>pixel782</th>\n",
       "      <th>pixel783</th>\n",
       "    </tr>\n",
       "  </thead>\n",
       "  <tbody>\n",
       "    <tr>\n",
       "      <th>0</th>\n",
       "      <td>1</td>\n",
       "      <td>0</td>\n",
       "      <td>0</td>\n",
       "      <td>0</td>\n",
       "      <td>0</td>\n",
       "      <td>0</td>\n",
       "      <td>0</td>\n",
       "      <td>0</td>\n",
       "      <td>0</td>\n",
       "      <td>0</td>\n",
       "      <td>...</td>\n",
       "      <td>0</td>\n",
       "      <td>0</td>\n",
       "      <td>0</td>\n",
       "      <td>0</td>\n",
       "      <td>0</td>\n",
       "      <td>0</td>\n",
       "      <td>0</td>\n",
       "      <td>0</td>\n",
       "      <td>0</td>\n",
       "      <td>0</td>\n",
       "    </tr>\n",
       "    <tr>\n",
       "      <th>1</th>\n",
       "      <td>0</td>\n",
       "      <td>0</td>\n",
       "      <td>0</td>\n",
       "      <td>0</td>\n",
       "      <td>0</td>\n",
       "      <td>0</td>\n",
       "      <td>0</td>\n",
       "      <td>0</td>\n",
       "      <td>0</td>\n",
       "      <td>0</td>\n",
       "      <td>...</td>\n",
       "      <td>0</td>\n",
       "      <td>0</td>\n",
       "      <td>0</td>\n",
       "      <td>0</td>\n",
       "      <td>0</td>\n",
       "      <td>0</td>\n",
       "      <td>0</td>\n",
       "      <td>0</td>\n",
       "      <td>0</td>\n",
       "      <td>0</td>\n",
       "    </tr>\n",
       "    <tr>\n",
       "      <th>2</th>\n",
       "      <td>1</td>\n",
       "      <td>0</td>\n",
       "      <td>0</td>\n",
       "      <td>0</td>\n",
       "      <td>0</td>\n",
       "      <td>0</td>\n",
       "      <td>0</td>\n",
       "      <td>0</td>\n",
       "      <td>0</td>\n",
       "      <td>0</td>\n",
       "      <td>...</td>\n",
       "      <td>0</td>\n",
       "      <td>0</td>\n",
       "      <td>0</td>\n",
       "      <td>0</td>\n",
       "      <td>0</td>\n",
       "      <td>0</td>\n",
       "      <td>0</td>\n",
       "      <td>0</td>\n",
       "      <td>0</td>\n",
       "      <td>0</td>\n",
       "    </tr>\n",
       "    <tr>\n",
       "      <th>3</th>\n",
       "      <td>4</td>\n",
       "      <td>0</td>\n",
       "      <td>0</td>\n",
       "      <td>0</td>\n",
       "      <td>0</td>\n",
       "      <td>0</td>\n",
       "      <td>0</td>\n",
       "      <td>0</td>\n",
       "      <td>0</td>\n",
       "      <td>0</td>\n",
       "      <td>...</td>\n",
       "      <td>0</td>\n",
       "      <td>0</td>\n",
       "      <td>0</td>\n",
       "      <td>0</td>\n",
       "      <td>0</td>\n",
       "      <td>0</td>\n",
       "      <td>0</td>\n",
       "      <td>0</td>\n",
       "      <td>0</td>\n",
       "      <td>0</td>\n",
       "    </tr>\n",
       "    <tr>\n",
       "      <th>4</th>\n",
       "      <td>0</td>\n",
       "      <td>0</td>\n",
       "      <td>0</td>\n",
       "      <td>0</td>\n",
       "      <td>0</td>\n",
       "      <td>0</td>\n",
       "      <td>0</td>\n",
       "      <td>0</td>\n",
       "      <td>0</td>\n",
       "      <td>0</td>\n",
       "      <td>...</td>\n",
       "      <td>0</td>\n",
       "      <td>0</td>\n",
       "      <td>0</td>\n",
       "      <td>0</td>\n",
       "      <td>0</td>\n",
       "      <td>0</td>\n",
       "      <td>0</td>\n",
       "      <td>0</td>\n",
       "      <td>0</td>\n",
       "      <td>0</td>\n",
       "    </tr>\n",
       "  </tbody>\n",
       "</table>\n",
       "<p>5 rows × 785 columns</p>\n",
       "</div>"
      ],
      "text/plain": [
       "   label  pixel0  pixel1  pixel2  pixel3  pixel4  pixel5  pixel6  pixel7  \\\n",
       "0      1       0       0       0       0       0       0       0       0   \n",
       "1      0       0       0       0       0       0       0       0       0   \n",
       "2      1       0       0       0       0       0       0       0       0   \n",
       "3      4       0       0       0       0       0       0       0       0   \n",
       "4      0       0       0       0       0       0       0       0       0   \n",
       "\n",
       "   pixel8  ...  pixel774  pixel775  pixel776  pixel777  pixel778  pixel779  \\\n",
       "0       0  ...         0         0         0         0         0         0   \n",
       "1       0  ...         0         0         0         0         0         0   \n",
       "2       0  ...         0         0         0         0         0         0   \n",
       "3       0  ...         0         0         0         0         0         0   \n",
       "4       0  ...         0         0         0         0         0         0   \n",
       "\n",
       "   pixel780  pixel781  pixel782  pixel783  \n",
       "0         0         0         0         0  \n",
       "1         0         0         0         0  \n",
       "2         0         0         0         0  \n",
       "3         0         0         0         0  \n",
       "4         0         0         0         0  \n",
       "\n",
       "[5 rows x 785 columns]"
      ]
     },
     "execution_count": 3,
     "metadata": {},
     "output_type": "execute_result"
    }
   ],
   "source": [
    "data.head()"
   ]
  },
  {
   "cell_type": "code",
   "execution_count": 4,
   "id": "c481decb-42c7-4655-973d-14beb32b85de",
   "metadata": {},
   "outputs": [
    {
     "data": {
      "text/plain": [
       "(42000, 785)"
      ]
     },
     "execution_count": 4,
     "metadata": {},
     "output_type": "execute_result"
    }
   ],
   "source": [
    "data.shape"
   ]
  },
  {
   "cell_type": "code",
   "execution_count": 5,
   "id": "d5eb1aa9-b0ce-4d3a-a953-26f8da22031d",
   "metadata": {},
   "outputs": [],
   "source": [
    "data = np.array(data)"
   ]
  },
  {
   "cell_type": "code",
   "execution_count": 6,
   "id": "7853ffc4-114b-4b44-bf8e-113b04e7caef",
   "metadata": {},
   "outputs": [
    {
     "data": {
      "text/plain": [
       "array([[1, 0, 0, ..., 0, 0, 0],\n",
       "       [0, 0, 0, ..., 0, 0, 0],\n",
       "       [1, 0, 0, ..., 0, 0, 0],\n",
       "       ...,\n",
       "       [7, 0, 0, ..., 0, 0, 0],\n",
       "       [6, 0, 0, ..., 0, 0, 0],\n",
       "       [9, 0, 0, ..., 0, 0, 0]])"
      ]
     },
     "execution_count": 6,
     "metadata": {},
     "output_type": "execute_result"
    }
   ],
   "source": [
    "data"
   ]
  },
  {
   "cell_type": "code",
   "execution_count": 7,
   "id": "91cf603b-6a62-40c2-9540-d89bf3bc11db",
   "metadata": {},
   "outputs": [],
   "source": [
    "m,n = data.shape  ##no of datapoints, pixel in a image"
   ]
  },
  {
   "cell_type": "code",
   "execution_count": 8,
   "id": "1a1bbe97-57c8-4882-95f4-fe42243ed60c",
   "metadata": {},
   "outputs": [],
   "source": [
    "np.random.shuffle(data)"
   ]
  },
  {
   "cell_type": "code",
   "execution_count": 9,
   "id": "e7e347aa-0150-456f-b1e1-0fe93310d5a3",
   "metadata": {},
   "outputs": [],
   "source": [
    "train_data = data[0:int(0.8*m), :]  # simply we are dividing the data into 80-20, for training and testing, int(0.8*m) will give 80% of m, no of data points\n",
    "val_data = data[int(0.8*m):m,:]"
   ]
  },
  {
   "cell_type": "code",
   "execution_count": 10,
   "id": "15ee6a7e-67b3-44c6-8ae3-e40a8b6324ff",
   "metadata": {},
   "outputs": [],
   "source": [
    "#now train_data has both the training features and labels, so we must seperate the labels from the features\n",
    "\n",
    "X_train = train_data[:,1:].T #features for the training\n",
    "Y_train = train_data[:,0]  #labels for the training\n",
    "X_val = val_data[:,1:].T\n",
    "Y_val = val_data[:,0]"
   ]
  },
  {
   "cell_type": "code",
   "execution_count": 11,
   "id": "fd5dea98-2d58-4244-9cb0-7b47745f58b4",
   "metadata": {},
   "outputs": [
    {
     "name": "stdout",
     "output_type": "stream",
     "text": [
      "(784, 33600) (33600,) (784, 8400) (8400,)\n"
     ]
    }
   ],
   "source": [
    "print(X_train.shape,\n",
    "Y_train.shape,\n",
    "X_val.shape,\n",
    "Y_val.shape)"
   ]
  },
  {
   "cell_type": "code",
   "execution_count": 12,
   "id": "48ae3dab-d4eb-4497-b81e-2a5787d4292f",
   "metadata": {},
   "outputs": [],
   "source": [
    "#now we need to scale the input, so that it can be between 0-1 rather then 0-255\n",
    "#This transformation effectively helps the neural network learn more efficiently and leads to better performance overall.\n",
    "\n",
    "X_train = X_train/255.0\n",
    "X_val = X_val/255.0"
   ]
  },
  {
   "cell_type": "markdown",
   "id": "dfcbbec8-a4bd-44d9-9664-a1269169794b",
   "metadata": {},
   "source": [
    "#### now building the model\n",
    "we will need 4 basic functions\n",
    "1. to initialize the weights and biases with random variables at the start\n",
    "2. Foward propogation\n",
    "3. Backpropogation\n",
    "4. Update Parameters"
   ]
  },
  {
   "cell_type": "code",
   "execution_count": null,
   "id": "6f525c87-2ee0-4023-8543-67fed25bee74",
   "metadata": {},
   "outputs": [],
   "source": [
    "# SIDE NOTE: Creating random arrays in numpy\n",
    "arr1 = np.random.rand(10) #1D\n",
    "arr2 = np.random.rand(10,2) #2d dimention 10,2\n",
    "arr2"
   ]
  },
  {
   "cell_type": "code",
   "execution_count": null,
   "id": "e9b1e759-cacc-4c58-800b-1d7f706bceb4",
   "metadata": {},
   "outputs": [],
   "source": [
    "# now we want how many weights?\n",
    "# for first Hidden layer H1, we have 784 inputs and 10 NN Unit in the layer, and each input will be given to each NN unit\n",
    "# so We want total of 10*786 weights\n",
    "\n",
    "# By subtracting 0.5, the weights are centered around zero. This has several benefits:\n",
    "# Balanced Activation: A balance of positive and negative weights allows for more versatile activation patterns.\n",
    "# Gradient Flow: Centered weights help maintain an appropriate range of activations throughout the network, promoting better gradient flow during backpropagation.\n",
    "\n",
    "def initialize_weights():\n",
    "    W1 = np.random.rand(10,784) - 0.5\n",
    "    B1 = np.random.rand(10,1) - 0.5\n",
    "    \n",
    "    W2 = np.random.rand(10,10) - 0.5\n",
    "    B2 = np.random.rand(10,1) -0.5\n",
    "\n",
    "    return W1,B1,W2,B2"
   ]
  },
  {
   "cell_type": "code",
   "execution_count": null,
   "id": "e5b0d773-8d4d-4f83-bd9b-8f4ed8841d37",
   "metadata": {},
   "outputs": [],
   "source": [
    "\n",
    "\n",
    "# In forward propogation what we are doing finding Z1, A1, Z2, A2 like this:\n",
    "# Z1 = W1.A0(or input) + B1\n",
    "# A1 = activation_function(Z1) --which can be sigmoid or relu\n",
    "# Z2 = W2.A1 + B2\n",
    "# A2 = activation_function_for_output(Z2) --which is softmax\n",
    "\n",
    "def ReLU(X):\n",
    "  return np.maximum(X, 0)\n",
    "\n",
    "def softmax_calculator(Z):\n",
    "  return np.exp(Z) / sum(np.exp(Z))\n",
    "\n",
    "def forward_propagation(W1, B1, W2, B2, X):\n",
    "  Z1 = W1.dot(X) + B1\n",
    "  A1 = ReLU(Z1)\n",
    "  Z2 = W2.dot(A1) + B2\n",
    "  A2 = softmax_calculator(Z2)\n",
    "  return Z1, A1, Z2, A2"
   ]
  },
  {
   "cell_type": "code",
   "execution_count": null,
   "id": "cc28d491-c62a-4764-a160-5d4f35f68919",
   "metadata": {},
   "outputs": [],
   "source": [
    "# before backpropogation we need to make the labels in one hot incoding format\n",
    "# Suppose you have three classes: Cat, Dog, and Rabbit.\n",
    "# The integer labels for these classes could be:\n",
    "# Cat: 0\n",
    "# Dog: 1\n",
    "# Rabbit: 2\n",
    "# The one-hot encoded vectors would be:\n",
    "# Cat: [1, 0, 0]\n",
    "# Dog: [0, 1, 0]\n",
    "# Rabbit: [0, 0, 1]\n",
    "\n",
    "#one_hot_encoded = np.zeros((len(labels), len(classes)))\n",
    "\n",
    "def one_hot_encoding(Y):\n",
    "    one_hot_Y = np.zeros((Y.size,Y.max() + 1)) # 10 - because there are 10 labels 0-9\n",
    "\n",
    "    one_hot_Y[np.arange(Y.size),Y] = 1 #one_hot_Y[0, 0] = 1  # For label 0\n",
    "                                        # one_hot_Y[1, 1] = 1  # For label 1\n",
    "                                        # one_hot_Y[2, 2] = 1  # For label 2\n",
    "                                        # one_hot_Y[3, 1] = 1  # For label 1 again\n",
    "    return one_hot_Y.T\n",
    "    \n"
   ]
  },
  {
   "cell_type": "code",
   "execution_count": null,
   "id": "4562dd0a-4081-47ec-a05f-eda1fa27a366",
   "metadata": {},
   "outputs": [],
   "source": [
    "# now we need prediction after the foward pass\n",
    "def Prediction(A2):\n",
    "    return np.argmax(A2,0)\n",
    "\n",
    "def Accuracy(Prediction_matrix, Y):\n",
    "    return np.sum(Prediction_matrix==Y)/Y.size"
   ]
  },
  {
   "cell_type": "code",
   "execution_count": null,
   "id": "5b009d82-90e6-4124-bda3-e9e41af3192f",
   "metadata": {},
   "outputs": [],
   "source": [
    "# for backpropogation we calculate the partial derivatives of the loss function, calculations done in notes\n",
    "\n",
    "def backward_propagation (W1, B1, W2, B2,Z1, A1, Z2, A2, X, Y):\n",
    "    one_hot_Y = one_hot_encoding(Y)\n",
    "    dZ2 = A2 - one_hot_Y\n",
    "    dW2 = 1 / m * dZ2.dot(A1.T)\n",
    "    dB2 = 1 / m * np.sum(dZ2)\n",
    "    dZ1 = W2.T.dot(dZ2) * (Z1 > 0)\n",
    "    dW1 = 1 / m * dZ1.dot(X.T)\n",
    "    dB1 = 1 / m * np.sum(dZ1)\n",
    "    return dW1, dB1, dW2, dB2\n",
    "    "
   ]
  },
  {
   "cell_type": "code",
   "execution_count": null,
   "id": "fad95627-da6d-4495-a2ad-96cac8086e9d",
   "metadata": {},
   "outputs": [],
   "source": [
    "# now we update the parameters from the backpropogation derivatives\n",
    "\n",
    "def update_parameters(W1,B1,W2,B2,dW1,dB1,dW2,dB2,learning_rate):\n",
    "    W1 = W1 - learning_rate * dW1\n",
    "    B1 = B1 - learning_rate * dB1\n",
    "    W2 = W2 - learning_rate * dW2\n",
    "    B2 = B2 - learning_rate * dB2\n",
    "    return W1, B1, W2, B2"
   ]
  },
  {
   "cell_type": "code",
   "execution_count": 23,
   "id": "e20194dd-7f0f-4ece-bcb8-0f71811e648a",
   "metadata": {},
   "outputs": [],
   "source": [
    "# lets now build the model\n",
    "\n",
    "def Gradient_descent(X,Y,alpha, iterations): #alpha is learning_rate\n",
    "    W1, B1, W2, B2 = initialize_weights()\n",
    "\n",
    "    for i in range(iterations):\n",
    "        Z1, A1, Z2, A2 =  forward_propagation(W1, B1, W2, B2, X)\n",
    "        dW1, dB1, dW2, dB2 = backward_propagation(W1, B1, W2, B2,Z1, A1, Z2, A2, X, Y)\n",
    "        W1, B1, W2, B2 = update_parameters(W1,B1,W2,B2,dW1,dB1,dW2,dB2,alpha)\n",
    "        if(i%20 == 0):\n",
    "            print(Accuracy(Prediction(A2),Y))\n",
    "    return W1, B1, W2, B2\n",
    "\n",
    "\n"
   ]
  },
  {
   "cell_type": "code",
   "execution_count": 26,
   "id": "27bc7195-64bd-4211-a2e0-b4b78adeff29",
   "metadata": {},
   "outputs": [
    {
     "name": "stdout",
     "output_type": "stream",
     "text": [
      "0.09047619047619047\n",
      "0.1400595238095238\n",
      "0.20425595238095237\n",
      "0.3225595238095238\n",
      "0.42485119047619047\n",
      "0.4855059523809524\n",
      "0.5348214285714286\n",
      "0.5805059523809524\n",
      "0.6199404761904762\n",
      "0.6527380952380952\n",
      "0.6812797619047619\n",
      "0.7080654761904762\n",
      "0.7293452380952381\n",
      "0.7457738095238096\n",
      "0.7591071428571429\n",
      "0.7716071428571428\n",
      "0.7805952380952381\n",
      "0.7892857142857143\n",
      "0.79625\n",
      "0.8018154761904762\n",
      "0.8075892857142857\n",
      "0.8127083333333334\n",
      "0.8169940476190476\n",
      "0.8213690476190476\n",
      "0.8241964285714286\n",
      "0.8277976190476191\n",
      "0.8308630952380952\n",
      "0.8336607142857143\n",
      "0.8363690476190476\n",
      "0.839047619047619\n",
      "0.8410119047619048\n",
      "0.8432142857142857\n",
      "0.8452380952380952\n",
      "0.8471726190476191\n",
      "0.8488392857142857\n",
      "0.850297619047619\n",
      "0.851577380952381\n",
      "0.8536904761904762\n",
      "0.8550892857142857\n",
      "0.85625\n",
      "0.8575595238095238\n",
      "0.8588095238095238\n",
      "0.8599702380952381\n",
      "0.8613095238095239\n",
      "0.862202380952381\n",
      "0.8632142857142857\n",
      "0.8644940476190476\n",
      "0.865625\n",
      "0.8663988095238095\n",
      "0.8672619047619048\n",
      "0.8682142857142857\n",
      "0.8694047619047619\n",
      "0.870297619047619\n",
      "0.8710119047619047\n",
      "0.8717857142857143\n",
      "0.8722916666666667\n",
      "0.8730654761904761\n",
      "0.8739285714285714\n",
      "0.8746130952380953\n",
      "0.8750892857142857\n",
      "0.8755952380952381\n",
      "0.875922619047619\n",
      "0.8764583333333333\n",
      "0.8770535714285714\n",
      "0.877529761904762\n",
      "0.878125\n",
      "0.8786607142857142\n",
      "0.8792261904761904\n",
      "0.8798214285714285\n",
      "0.880297619047619\n",
      "0.8809821428571428\n",
      "0.8815178571428571\n",
      "0.881875\n",
      "0.8824107142857143\n",
      "0.8829464285714286\n"
     ]
    }
   ],
   "source": [
    "W1, B1, W2, B2 = Gradient_descent(X_train,Y_train,0.1,1500)"
   ]
  },
  {
   "cell_type": "code",
   "execution_count": 60,
   "id": "70055163-0500-46de-937b-7c72440c5a99",
   "metadata": {},
   "outputs": [
    {
     "name": "stdout",
     "output_type": "stream",
     "text": [
      "Prediction -  [4]  Actual Result :  4\n"
     ]
    },
    {
     "data": {
      "text/plain": [
       "<matplotlib.image.AxesImage at 0x132bb3f40>"
      ]
     },
     "execution_count": 60,
     "metadata": {},
     "output_type": "execute_result"
    },
    {
     "data": {
      "image/png": "[encoded data removed]",
      "text/plain": [
       "<Figure size 640x480 with 1 Axes>"
      ]
     },
     "metadata": {},
     "output_type": "display_data"
    }
   ],
   "source": [
    "Val_index = 19\n",
    "Z1, A1, Z2, A2 = forward_propagation(W1, B1, W2, B2, X_val[:,Val_index, None])\n",
    "print('Prediction - ',Prediction(A2),' Actual Result : ',Y_val[Val_index])\n",
    "\n",
    "image_array = X_val[:,Val_index].reshape(28,28)\n",
    "plt.imshow(image_array, cmap='gray')"
   ]
  },
  {
   "cell_type": "code",
   "execution_count": 53,
   "id": "c49c6fe7-5cdf-477e-88db-efb50c213338",
   "metadata": {},
   "outputs": [
    {
     "name": "stdout",
     "output_type": "stream",
     "text": [
      "Accuracy -  0.88\n"
     ]
    }
   ],
   "source": [
    "#now accuract on the validation data\n",
    "Z1, A1, Z2, A2 = forward_propagation(W1, B1, W2, B2, X_val)\n",
    "print('Accuracy - ',Accuracy(Prediction(A2), Y_val))"
   ]
  },
  {
   "cell_type": "code",
   "execution_count": null,
   "id": "b5e647fd-8bd8-4143-9831-3c3137f379ae",
   "metadata": {},
   "outputs": [],
   "source": []
  }
 ],
 "metadata": {
  "kernelspec": {
   "display_name": "Python 3 (ipykernel)",
   "language": "python",
   "name": "python3"
  },
  "language_info": {
   "codemirror_mode": {
    "name": "ipython",
    "version": 3
   },
   "file_extension": ".py",
   "mimetype": "text/x-python",
   "name": "python",
   "nbconvert_exporter": "python",
   "pygments_lexer": "ipython3",
   "version": "3.9.6"
  }
 },
 "nbformat": 4,
 "nbformat_minor": 5
}
